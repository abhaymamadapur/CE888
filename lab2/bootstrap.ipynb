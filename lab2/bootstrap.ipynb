{
  "nbformat": 4,
  "nbformat_minor": 0,
  "metadata": {
    "colab": {
      "name": "bootstrap.ipynb",
      "provenance": [],
      "collapsed_sections": [],
      "include_colab_link": true
    },
    "kernelspec": {
      "display_name": "Python 3",
      "language": "python",
      "name": "python3"
    },
    "language_info": {
      "codemirror_mode": {
        "name": "ipython",
        "version": 3
      },
      "file_extension": ".py",
      "mimetype": "text/x-python",
      "name": "python",
      "nbconvert_exporter": "python",
      "pygments_lexer": "ipython3",
      "version": "3.7.6"
    },
    "pycharm": {
      "stem_cell": {
        "cell_type": "raw",
        "metadata": {
          "collapsed": false
        },
        "source": []
      }
    }
  },
  "cells": [
    {
      "cell_type": "markdown",
      "metadata": {
        "id": "view-in-github",
        "colab_type": "text"
      },
      "source": [
        "<a href=\"https://colab.research.google.com/github/abhaymamadapur/CE888/blob/main/lab2/bootstrap.ipynb\" target=\"_parent\"><img src=\"https://colab.research.google.com/assets/colab-badge.svg\" alt=\"Open In Colab\"/></a>"
      ]
    },
    {
      "cell_type": "markdown",
      "metadata": {
        "id": "nCi_99yMYIb1"
      },
      "source": [
        "In this notebook you'll create your own bootstrap function following the bootstrap algorithm (check the lecture notes!)"
      ]
    },
    {
      "cell_type": "code",
      "metadata": {
        "id": "LY5zujI2YC37",
        "pycharm": {
          "name": "#%%# Imports\n"
        }
      },
      "source": [
        "import matplotlib\n",
        "import pandas as pd\n",
        "import seaborn as sns\n",
        "import numpy as np\n",
        "\n"
      ],
      "execution_count": 1,
      "outputs": []
    },
    {
      "cell_type": "code",
      "metadata": {
        "id": "Eqkwj4SMY38t",
        "colab": {
          "base_uri": "https://localhost:8080/"
        },
        "outputId": "894abde8-9ebe-4c2f-91a6-dbbfac069f96"
      },
      "source": [
        "# Load the data\n",
        "df = pd.read_csv('https://raw.githubusercontent.com/albanda/CE888/master/lab2%20-%20bootstrap/customers.csv')\n",
        "data = df.values.T[1]\n",
        "data"
      ],
      "execution_count": 51,
      "outputs": [
        {
          "output_type": "execute_result",
          "data": {
            "text/plain": [
              "array([ 2.,  8., 20., 13.,  5.,  9., 10.,  8., 22., 10.,  2.,  4.,  7.,\n",
              "        9.])"
            ]
          },
          "metadata": {
            "tags": []
          },
          "execution_count": 51
        }
      ]
    },
    {
      "cell_type": "code",
      "metadata": {
        "id": "Gxvc_bScYC4H",
        "pycharm": {
          "name": "#%%\n"
        }
      },
      "source": [
        "# Bootstrap withput meaning\n",
        "def bootstrap_mean(x, sample_size, n_bootstraps):\n",
        "  mean_arr=[]\n",
        "  for i in range(n_bootstraps):\n",
        "    mean_arr.append(np.mean(np.random.choice(x,sample_size,replace=True)))\n",
        "    \n",
        "  data_mean = np.mean(mean_arr)\n",
        "  lower = np.percentile(mean_arr,2.5)\n",
        "  upper = np.percentile(mean_arr,97.5)\n",
        "  return data_mean, lower, upper"
      ],
      "execution_count": 3,
      "outputs": []
    },
    {
      "cell_type": "code",
      "metadata": {
        "id": "AN7sEOcMYC4P",
        "pycharm": {
          "name": "#%%\n"
        },
        "colab": {
          "base_uri": "https://localhost:8080/",
          "height": 454
        },
        "outputId": "d94d76fc-70b1-4e00-ee38-70e59ecb82ba"
      },
      "source": [
        "# Call your bootstrap function and plot the results\n",
        "\n",
        "boots = []\n",
        "for i in range(100, 50000, 1000):\n",
        "    boot = bootstrap_mean(data, data.shape[0], i)\n",
        "    boots.append([i, boot[0], \"mean\"])\n",
        "    boots.append([i, boot[1], \"lower\"])\n",
        "    boots.append([i, boot[2], \"upper\"])\n",
        "\n",
        "df_boot = pd.DataFrame(boots, columns=['Bootstrap Iterations', 'Mean', \"Value\"])\n",
        "sns_plot = sns.lmplot(df_boot.columns[0], df_boot.columns[1], data=df_boot, fit_reg=False, hue=\"Value\")\n",
        "\n",
        "sns_plot.axes[0, 0].set_ylim(0,)\n",
        "sns_plot.axes[0, 0].set_xlim(0, 100000)\n"
      ],
      "execution_count": 65,
      "outputs": [
        {
          "output_type": "stream",
          "text": [
            "/usr/local/lib/python3.6/dist-packages/seaborn/_decorators.py:43: FutureWarning: Pass the following variables as keyword args: x, y. From version 0.12, the only valid positional argument will be `data`, and passing other arguments without an explicit keyword will result in an error or misinterpretation.\n",
            "  FutureWarning\n"
          ],
          "name": "stderr"
        },
        {
          "output_type": "execute_result",
          "data": {
            "text/plain": [
              "(0.0, 100000.0)"
            ]
          },
          "metadata": {
            "tags": []
          },
          "execution_count": 65
        },
        {
          "output_type": "display_data",
          "data": {
            "image/png": "[encoded data removed]",
            "text/plain": [
              "<Figure size 425.125x360 with 1 Axes>"
            ]
          },
          "metadata": {
            "tags": [],
            "needs_background": "light"
          }
        }
      ]
    },
    {
      "cell_type": "markdown",
      "metadata": {
        "id": "MjtP4e2_YC4V"
      },
      "source": [
        "\n",
        "\n",
        "```\n",
        "# This is formatted as code\n",
        "```\n",
        "\n",
        "\n",
        "Now, modify the bootstrap function you created above so that you can pass your desired confidence interval as a parameter.\n",
        "\n"
      ]
    },
    {
      "cell_type": "code",
      "metadata": {
        "id": "3K9j0FuGYhHs"
      },
      "source": [
        "def bootstrap_mean_ci(sample, sample_size, n_bootstraps, ci):\n",
        "  mean_arr=[]\n",
        "  for i in range(n_bootstraps):\n",
        "    mean_arr.append(np.mean(np.random.choice(sample,sample_size,replace=True)))\n",
        "    \n",
        "  data_mean = np.mean(mean_arr)\n",
        "  percentile = 100-ci\n",
        "  lower = np.percentile(mean_arr,round(percentile/2,1))\n",
        "  upper = np.percentile(mean_arr,ci+round(percentile/2,1))\n",
        "  return data_mean, lower, upper"
      ],
      "execution_count": 4,
      "outputs": []
    },
    {
      "cell_type": "code",
      "metadata": {
        "id": "uDnjq08GYl-C",
        "colab": {
          "base_uri": "https://localhost:8080/",
          "height": 454
        },
        "outputId": "fb218cf7-de04-455c-80b9-70c6504e2227"
      },
      "source": [
        "boots = []\n",
        "for i in range(100, 50000, 1000):\n",
        "    boot = bootstrap_mean_ci(data, data.shape[0], i, 80)\n",
        "    boots.append([i, boot[0], \"mean\"])\n",
        "    boots.append([i, boot[1], \"lower\"])\n",
        "    boots.append([i, boot[2], \"upper\"])\n",
        "\n",
        "df_boot = pd.DataFrame(boots, columns=['Boostrap Iterations', 'Mean', \"Value\"])\n",
        "sns_plot = sns.lmplot(df_boot.columns[0], df_boot.columns[1], data=df_boot, fit_reg=False, hue=\"Value\")\n",
        "\n",
        "sns_plot.axes[0, 0].set_ylim(0,)\n",
        "sns_plot.axes[0, 0].set_xlim(0, 100000)\n",
        "\n",
        "#sns_plot.savefig(\"bootstrap_confidence_80.pdf\", bbox_inches='tight')\n"
      ],
      "execution_count": 66,
      "outputs": [
        {
          "output_type": "stream",
          "text": [
            "/usr/local/lib/python3.6/dist-packages/seaborn/_decorators.py:43: FutureWarning: Pass the following variables as keyword args: x, y. From version 0.12, the only valid positional argument will be `data`, and passing other arguments without an explicit keyword will result in an error or misinterpretation.\n",
            "  FutureWarning\n"
          ],
          "name": "stderr"
        },
        {
          "output_type": "execute_result",
          "data": {
            "text/plain": [
              "(0.0, 100000.0)"
            ]
          },
          "metadata": {
            "tags": []
          },
          "execution_count": 66
        },
        {
          "output_type": "display_data",
          "data": {
            "image/png": "[encoded data removed]",
            "text/plain": [
              "<Figure size 425.125x360 with 1 Axes>"
            ]
          },
          "metadata": {
            "tags": [],
            "needs_background": "light"
          }
        }
      ]
    },
    {
      "cell_type": "markdown",
      "metadata": {
        "id": "qjNgXW6wdd7r"
      },
      "source": [
        "# Vehicles dataset\n",
        "\n",
        "Now let's work on a different dataset, which is stored in the vehicles.csv file.\n"
      ]
    },
    {
      "cell_type": "code",
      "metadata": {
        "id": "avWv4ipFdpka"
      },
      "source": [
        "vehicleDataSet = pd.read_csv(\"https://raw.githubusercontent.com/albanda/CE888/master/lab2%20-%20bootstrap/vehicles.csv\")\n",
        "currentFleetData = vehicleDataSet[\"Current fleet\"].dropna()\n",
        "newFleetData= vehicleDataSet[\"New Fleet\"].dropna()\n",
        "\n"
      ],
      "execution_count": 54,
      "outputs": []
    },
    {
      "cell_type": "code",
      "metadata": {
        "colab": {
          "base_uri": "https://localhost:8080/",
          "height": 283
        },
        "id": "jMnKjY4sW7Hp",
        "outputId": "b060a11e-4028-4e2d-fcff-32af7a303be6"
      },
      "source": [
        "sns.scatterplot(x=currentFleetData.index.values,y=currentFleetData)"
      ],
      "execution_count": 67,
      "outputs": [
        {
          "output_type": "execute_result",
          "data": {
            "text/plain": [
              "<matplotlib.axes._subplots.AxesSubplot at 0x7fb09a507400>"
            ]
          },
          "metadata": {
            "tags": []
          },
          "execution_count": 67
        },
        {
          "output_type": "display_data",
          "data": {
            "image/png": "[encoded data removed]",
            "text/plain": [
              "<Figure size 432x288 with 1 Axes>"
            ]
          },
          "metadata": {
            "tags": [],
            "needs_background": "light"
          }
        }
      ]
    },
    {
      "cell_type": "code",
      "metadata": {
        "colab": {
          "base_uri": "https://localhost:8080/",
          "height": 282
        },
        "id": "a7t0pIerDnFr",
        "outputId": "9ddd5a11-8571-469c-fbd4-1beea274b90d"
      },
      "source": [
        "sns.scatterplot(x=newFleetData.index.values,y=newFleetData)"
      ],
      "execution_count": 68,
      "outputs": [
        {
          "output_type": "execute_result",
          "data": {
            "text/plain": [
              "<matplotlib.axes._subplots.AxesSubplot at 0x7fb09a64e898>"
            ]
          },
          "metadata": {
            "tags": []
          },
          "execution_count": 68
        },
        {
          "output_type": "display_data",
          "data": {
            "image/png": "[encoded data removed]",
            "text/plain": [
              "<Figure size 432x288 with 1 Axes>"
            ]
          },
          "metadata": {
            "tags": [],
            "needs_background": "light"
          }
        }
      ]
    },
    {
      "cell_type": "markdown",
      "metadata": {
        "id": "B5d0tXDpIEj8"
      },
      "source": [
        "## Compare the two fleets\r\n",
        "\r\n",
        "The business analysts come up a comparison algorithm that requires the upper and lower bounds for the mean in order to say which fleet is better.\r\n",
        "1. Calculate the mean of both samples.\r\n",
        "2. Using the bootstrap function that you created:\r\n",
        "    - Construct the 95% CI of the mean of the current fleet.\r\n",
        "    - Construct the 95% CI of the mean of the new fleet.\r\n",
        "    - Are they comparable? (i.e., is one better than the other?) -- you can do this with a permutation test (check the lecture notes!)"
      ]
    },
    {
      "cell_type": "code",
      "metadata": {
        "colab": {
          "base_uri": "https://localhost:8080/"
        },
        "id": "o-f0vVv_ERm7",
        "outputId": "1962a015-55ff-4b77-805a-ec3284161532"
      },
      "source": [
        "# Answer 1\n",
        "currentFleetMean = currentFleetData.mean()\n",
        "print(\"Current Fleet Data mean ,\",currentFleetMean)\n",
        "newFleetMean = newFleetData.mean()\n",
        "print(\"New Fleet Data mean ,\",newFleetMean)"
      ],
      "execution_count": 6,
      "outputs": [
        {
          "output_type": "stream",
          "text": [
            "Current Fleet Data mean , 20.14457831325301\n",
            "New Fleet Data mean , 30.481012658227847\n"
          ],
          "name": "stdout"
        }
      ]
    },
    {
      "cell_type": "code",
      "metadata": {
        "colab": {
          "base_uri": "https://localhost:8080/"
        },
        "id": "oxadNfbFFP0M",
        "outputId": "cb0a67aa-f5ab-4237-97b3-c3de8a7689ef"
      },
      "source": [
        "# Answer 2.1\n",
        "bootstrap_mean_ci(currentFleetData,len(currentFleetData),20000,95)"
      ],
      "execution_count": 11,
      "outputs": [
        {
          "output_type": "execute_result",
          "data": {
            "text/plain": [
              "(20.14300903614458, 19.357329317269077, 20.93574297188755)"
            ]
          },
          "metadata": {
            "tags": []
          },
          "execution_count": 11
        }
      ]
    },
    {
      "cell_type": "code",
      "metadata": {
        "colab": {
          "base_uri": "https://localhost:8080/"
        },
        "id": "8Q9DdW_AF7t8",
        "outputId": "0e012e4b-538a-4c5c-a536-977998642ce2"
      },
      "source": [
        "# Answer 2.2\n",
        "bootstrap_mean_ci(newFleetData,len(newFleetData),20000,95)"
      ],
      "execution_count": 13,
      "outputs": [
        {
          "output_type": "execute_result",
          "data": {
            "text/plain": [
              "(30.482337974683546, 29.151898734177216, 31.82278481012658)"
            ]
          },
          "metadata": {
            "tags": []
          },
          "execution_count": 13
        }
      ]
    },
    {
      "cell_type": "code",
      "metadata": {
        "id": "MkxvDZG4HC0n"
      },
      "source": [
        "# To calculate the P- value\n",
        "\n",
        "def permut_test(sample1, sample2, n_permutations):\n",
        "  concatenatedData = np.concatenate((sample1,sample2))\n",
        "  count=0\n",
        "  # Calculating mean of current fleet.\n",
        "  currentFleetMean =np.mean(sample1)\n",
        "  print(\"Mean of currentFleetMean\",currentFleetMean)\n",
        "  # Calculating mean of new fleet.\n",
        "  newFleetMean = np.mean(sample2)\n",
        "  print(\"Mean of newFleetMean\",newFleetMean)\n",
        "  t_obs  = newFleetMean - currentFleetMean\n",
        "  print(\"T-Observe mean\", t_obs)\n",
        "\n",
        "  for i in range(n_permutations):\n",
        "    perm_arr = np.random.permutation(concatenatedData)\n",
        "    newSample1 = perm_arr[:len(sample1)]\n",
        "    newSample2 = perm_arr[len(sample1):]\n",
        "    t_perm = newSample2.mean()-newSample1.mean()\n",
        "    if(t_perm>t_obs):\n",
        "      count = count+1\n",
        "\n",
        "  pvalue = count/n_permutations\n",
        "  return pvalue\n"
      ],
      "execution_count": 40,
      "outputs": []
    },
    {
      "cell_type": "code",
      "metadata": {
        "colab": {
          "base_uri": "https://localhost:8080/"
        },
        "id": "4xUO5icCd7UD",
        "outputId": "9cabc41c-8c06-438b-d721-c714439bd004"
      },
      "source": [
        "# Answer 2.3\n",
        "permut_test(currentFleetData,newFleetData,30000)"
      ],
      "execution_count": 43,
      "outputs": [
        {
          "output_type": "stream",
          "text": [
            "Mean of currentFleetMean 20.14457831325301\n",
            "Mean of newFleetMean 30.481012658227847\n",
            "T-Observe mean 10.336434344974837\n"
          ],
          "name": "stdout"
        },
        {
          "output_type": "execute_result",
          "data": {
            "text/plain": [
              "0.0"
            ]
          },
          "metadata": {
            "tags": []
          },
          "execution_count": 43
        }
      ]
    },
    {
      "cell_type": "code",
      "metadata": {
        "id": "ZBN6VFgshivH"
      },
      "source": [
        "def bootstrap_std_ci(sample, sample_size, n_bootstraps, ci):\n",
        "  std_arr=[]\n",
        "  for i in range(n_bootstraps):\n",
        "    std_arr.append(np.std(np.random.choice(sample,sample_size,replace=True)))\n",
        "    \n",
        "  data_std = np.std(std_arr)\n",
        "  percentile = 100-ci\n",
        "  lower = np.percentile(std_arr,round(percentile/2,1))\n",
        "  upper = np.percentile(std_arr,ci+round(percentile/2,1))\n",
        "  return data_std, lower, upper\n",
        "\n"
      ],
      "execution_count": 20,
      "outputs": []
    },
    {
      "cell_type": "code",
      "metadata": {
        "id": "sP4oY5f_PsGg"
      },
      "source": [
        "# Customer Data   bootstrap. - BOOTSTRAP MEAN CI\n",
        "bootstrap_mean_ci(data,len(data),10000,95)"
      ],
      "execution_count": null,
      "outputs": []
    },
    {
      "cell_type": "code",
      "metadata": {
        "colab": {
          "base_uri": "https://localhost:8080/"
        },
        "id": "hxrFXI18_1Yb",
        "outputId": "82fd6e58-afa9-47c6-9c5b-3ade53c1f6ae"
      },
      "source": [
        "# Customer Data   bootstrap. - BOOTSTRAP STD CI\n",
        "bootstrap_std_ci(data,len(data),10000,90)"
      ],
      "execution_count": 53,
      "outputs": [
        {
          "output_type": "execute_result",
          "data": {
            "text/plain": [
              "(1.1994089916178219, 3.040416476715709, 7.128557114214086)"
            ]
          },
          "metadata": {
            "tags": []
          },
          "execution_count": 53
        }
      ]
    },
    {
      "cell_type": "code",
      "metadata": {
        "id": "Uo7VxAwYQCm2",
        "colab": {
          "base_uri": "https://localhost:8080/"
        },
        "outputId": "b7df9361-b866-4ab8-b64c-80edfddba7fc"
      },
      "source": [
        "# Vehicle currentData bootstrap -  BOOTSTRAP MEAN CI\n",
        "bootstrap_mean_ci(currentFleetData,len(currentFleetData),10000,92)"
      ],
      "execution_count": 50,
      "outputs": [
        {
          "output_type": "execute_result",
          "data": {
            "text/plain": [
              "(20.143025702811244, 19.449799196787147, 20.8714859437751)"
            ]
          },
          "metadata": {
            "tags": []
          },
          "execution_count": 50
        }
      ]
    },
    {
      "cell_type": "code",
      "metadata": {
        "colab": {
          "base_uri": "https://localhost:8080/"
        },
        "id": "hLtyPTlk_IEz",
        "outputId": "013699d0-9f25-413c-f40d-83be50d9ae49"
      },
      "source": [
        "# Vehicle newData bootstrap -  BOOTSTRAP MEAN CI\n",
        "bootstrap_mean_ci(newFleetData,len(newFleetData),10000,80)"
      ],
      "execution_count": null,
      "outputs": [
        {
          "output_type": "execute_result",
          "data": {
            "text/plain": [
              "(30.47065569620253, 29.582278481012658, 31.341772151898734)"
            ]
          },
          "metadata": {
            "tags": []
          },
          "execution_count": 122
        }
      ]
    },
    {
      "cell_type": "code",
      "metadata": {
        "colab": {
          "base_uri": "https://localhost:8080/"
        },
        "id": "fnOLQ9WqhonR",
        "outputId": "54460077-b10b-41bb-d76d-a805442b32f5"
      },
      "source": [
        "# Vehicle currentData bootstrap - BOOTSTRAP STD CI\n",
        "bootstrap_std_ci(currentFleetData,len(currentFleetData),10000,73)"
      ],
      "execution_count": null,
      "outputs": [
        {
          "output_type": "execute_result",
          "data": {
            "text/plain": [
              "(0.29101095170849506, 6.066376394996033, 6.715564864419552)"
            ]
          },
          "metadata": {
            "tags": []
          },
          "execution_count": 111
        }
      ]
    },
    {
      "cell_type": "code",
      "metadata": {
        "colab": {
          "base_uri": "https://localhost:8080/"
        },
        "id": "f2ys3AQYQXiW",
        "outputId": "071842a7-8410-4d6a-e15e-36f33e5e08c1"
      },
      "source": [
        "# Vehicle newData bootstrap - BOOTSTRAP STD CI\n",
        "bootstrap_std_ci(newFleetData,len(newFleetData),10000,95)"
      ],
      "execution_count": null,
      "outputs": [
        {
          "output_type": "execute_result",
          "data": {
            "text/plain": [
              "(0.4454237392630314, 5.162438284998818, 6.906134110313684)"
            ]
          },
          "metadata": {
            "tags": []
          },
          "execution_count": 124
        }
      ]
    },
    {
      "cell_type": "code",
      "metadata": {
        "colab": {
          "base_uri": "https://localhost:8080/"
        },
        "id": "9yCKIarpk64l",
        "outputId": "ab6d80af-4bac-42ef-e738-af78b9b72fed"
      },
      "source": [
        "#Vehicle p-value\n",
        "permut_test(currentFleetData,newFleetData,30000)"
      ],
      "execution_count": 55,
      "outputs": [
        {
          "output_type": "stream",
          "text": [
            "Mean of currentFleetMean 20.14457831325301\n",
            "Mean of newFleetMean 30.481012658227847\n",
            "T-Observe mean 10.336434344974837\n"
          ],
          "name": "stdout"
        },
        {
          "output_type": "execute_result",
          "data": {
            "text/plain": [
              "0.0"
            ]
          },
          "metadata": {
            "tags": []
          },
          "execution_count": 55
        }
      ]
    },
    {
      "cell_type": "code",
      "metadata": {
        "id": "_hvUnBwHonl3"
      },
      "source": [
        "# Voting Data ---\n",
        "dem_share_PA = [60.08, 40.64, 36.07, 41.21, 31.04, 43.78, 44.08, 46.85, 44.71, 46.15, 63.10, 52.20, 43.18, 40.24, 39.92, 47.87, 37.77, 40.11, 49.85, 48.61, 38.62, 54.25, 34.84, 47.75, 43.82, 55.97, 58.23, 42.97, 42.38, 36.11, 37.53, 42.65, 50.96, 47.43, 56.24, 45.60, 46.39, 35.22, 48.56, 32.97, 57.88, 36.05, 37.72, 50.36, 32.12, 41.55, 54.66, 57.81, 54.58, 32.88, 54.37, 40.45, 47.61, 60.49, 43.11, 27.32, 44.03, 33.56, 37.26, 54.64, 43.12, 25.34, 49.79, 83.56, 40.09, 60.81, 49.81]\n",
        "dem_share_OH = [56.94, 50.46, 65.99, 45.88, 42.23, 45.26, 57.01, 53.61, 59.10, 61.48, 43.43, 44.69, 54.59, 48.36, 45.89, 48.62, 43.92, 38.23, 28.79, 63.57, 38.07, 40.18, 43.05, 41.56, 42.49, 36.06, 52.76, 46.07, 39.43, 39.26, 47.47, 27.92, 38.01, 45.45, 29.07, 28.94, 51.28, 50.10, 39.84, 36.43, 35.71, 31.47, 47.01, 40.10, 48.76, 31.56, 39.86, 45.31, 35.47, 51.38, 46.33, 48.73, 41.77, 41.32, 48.46, 53.14, 34.01, 54.74, 40.67, 38.96, 46.29, 38.25, 6.80, 31.75, 46.33, 44.90, 33.57, 38.10, 39.67, 40.47, 49.44, 37.62, 36.71, 46.73, 42.20, 53.16, 52.40, 58.36, 68.02, 38.53, 34.58, 69.64, 60.50, 53.53, 36.54, 49.58, 41.97, 38.11]"
      ],
      "execution_count": 56,
      "outputs": []
    },
    {
      "cell_type": "code",
      "metadata": {
        "colab": {
          "base_uri": "https://localhost:8080/"
        },
        "id": "zQT3s6RMoqAD",
        "outputId": "9b048fee-d04a-4bdf-d198-3a2c2ee43038"
      },
      "source": [
        "len(dem_share_PA)"
      ],
      "execution_count": null,
      "outputs": [
        {
          "output_type": "execute_result",
          "data": {
            "text/plain": [
              "67"
            ]
          },
          "metadata": {
            "tags": []
          },
          "execution_count": 93
        }
      ]
    },
    {
      "cell_type": "code",
      "metadata": {
        "colab": {
          "base_uri": "https://localhost:8080/"
        },
        "id": "xkCOiuTE0pSC",
        "outputId": "b511f8c6-c3bc-42e1-da3c-b1b01fbb2ee8"
      },
      "source": [
        "len(dem_share_OH)"
      ],
      "execution_count": null,
      "outputs": [
        {
          "output_type": "execute_result",
          "data": {
            "text/plain": [
              "88"
            ]
          },
          "metadata": {
            "tags": []
          },
          "execution_count": 94
        }
      ]
    },
    {
      "cell_type": "code",
      "metadata": {
        "colab": {
          "base_uri": "https://localhost:8080/"
        },
        "id": "Z4RiU1u108Pf",
        "outputId": "be7322ef-d006-461c-e343-fc86a3900912"
      },
      "source": [
        "# Voting Data PA ---BOOTSTRAP MEAN CI\n",
        "bootstrap_mean_ci(dem_share_PA,len(dem_share_PA),20000,95)"
      ],
      "execution_count": 58,
      "outputs": [
        {
          "output_type": "execute_result",
          "data": {
            "text/plain": [
              "(45.48329044029851, 43.227376865671644, 47.86359701492537)"
            ]
          },
          "metadata": {
            "tags": []
          },
          "execution_count": 58
        }
      ]
    },
    {
      "cell_type": "code",
      "metadata": {
        "colab": {
          "base_uri": "https://localhost:8080/"
        },
        "id": "34j9N2ce1HvH",
        "outputId": "8de47c10-a3ff-4cf8-f1eb-9f5bd373a480"
      },
      "source": [
        "# Voting Data OH ---BOOTSTRAP MEAN CI\n",
        "bootstrap_mean_ci(dem_share_OH,len(dem_share_OH),20000,95)"
      ],
      "execution_count": 59,
      "outputs": [
        {
          "output_type": "execute_result",
          "data": {
            "text/plain": [
              "(44.32539798863636, 42.27760227272727, 46.36921875)"
            ]
          },
          "metadata": {
            "tags": []
          },
          "execution_count": 59
        }
      ]
    },
    {
      "cell_type": "code",
      "metadata": {
        "colab": {
          "base_uri": "https://localhost:8080/"
        },
        "id": "hQecXYVR1aYv",
        "outputId": "a4e4e1b4-d1d4-4a37-eedc-382b02f63df4"
      },
      "source": [
        "#Voting Data OH - Permutation\n",
        "permut_test(dem_share_OH,dem_share_PA,10000)"
      ],
      "execution_count": 64,
      "outputs": [
        {
          "output_type": "stream",
          "text": [
            "Mean of currentFleetMean 44.31818181818182\n",
            "Mean of newFleetMean 45.476417910447765\n",
            "T-Observe mean 1.1582360922659447\n"
          ],
          "name": "stdout"
        },
        {
          "output_type": "execute_result",
          "data": {
            "text/plain": [
              "0.2407"
            ]
          },
          "metadata": {
            "tags": []
          },
          "execution_count": 64
        }
      ]
    }
  ]
}